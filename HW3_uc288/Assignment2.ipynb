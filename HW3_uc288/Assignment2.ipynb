{
 "cells": [
  {
   "cell_type": "markdown",
   "metadata": {},
   "source": [
    "# Assignment 2: CitiBike Data Analysis\n",
    "\n",
    "Your notebook must display\n",
    "* the complete formulation of the hypothesis to be tested\n",
    "* the data tables for the unreducted datasets (first few columns)\n",
    "* the data tables for the reducted datasets (first few columns)\n",
    "* the plots for each dataframe, with usual rules for plotting applying: visible and readable axes, title, legend, caption."
   ]
  },
  {
   "cell_type": "markdown",
   "metadata": {},
   "source": [
    "## Idea: Subscribers bike more on the weekday and Customers bike more on the weekends."
   ]
  },
  {
   "cell_type": "markdown",
   "metadata": {},
   "source": [
    "## NULL HYPOTHESIS\n",
    "### The ratio of subscribers biking on weekdays over subscribers biking on weekends is the same or lower than the ratio of customers biking on weekdays over customers biking on weekends a significance level of $\\alpha = 0.05$."
   ]
  },
  {
   "cell_type": "markdown",
   "metadata": {},
   "source": [
    "## $H_0$ : $\\frac{S_{\\mathrm{weekday}}}{S_{\\mathrm{weekend}}} <= \\frac{C_{\\mathrm{weekday}}}{C_{\\mathrm{weekend}}}$\n",
    "\n",
    "## $H_1$ : $\\frac{S_{\\mathrm{weekday}}}{S_{\\mathrm{weekend}}} > \\frac{C_{\\mathrm{weekday}}}{C_{\\mathrm{weekend}}}$"
   ]
  },
  {
   "cell_type": "code",
   "execution_count": 1,
   "metadata": {
    "collapsed": false
   },
   "outputs": [
    {
     "name": "stdout",
     "output_type": "stream",
     "text": [
      "Populating the interactive namespace from numpy and matplotlib\n"
     ]
    },
    {
     "name": "stderr",
     "output_type": "stream",
     "text": [
      "/opt/rh/anaconda/root/envs/PUI2016_Python2/lib/python2.7/site-packages/IPython/html.py:14: ShimWarning: The `IPython.html` package has been deprecated. You should import from `notebook` instead. `IPython.html.widgets` has moved to `ipywidgets`.\n",
      "  \"`IPython.html.widgets` has moved to `ipywidgets`.\", ShimWarning)\n"
     ]
    }
   ],
   "source": [
    "import numpy as np\n",
    "import pandas as pd\n",
    "import pylab as pl\n",
    "import sys\n",
    "import os\n",
    "import seaborn as sns\n",
    "\n",
    "%pylab inline"
   ]
  },
  {
   "cell_type": "code",
   "execution_count": 2,
   "metadata": {
    "collapsed": true
   },
   "outputs": [],
   "source": [
    "def getCitiBikeCSV(datestring):\n",
    "    '''\n",
    "    Retrieves the CitiBike CSV file given a datestring\n",
    "    and saves it in the directory specified in $PUIDATA\n",
    "    \n",
    "    Argument:\n",
    "        datestring: String in format YYYYMM\n",
    "    '''\n",
    "    \n",
    "    PUIdata = os.getenv(\"PUIDATA\")\n",
    "    \n",
    "    print (\"Downloading\", datestring)\n",
    "    \n",
    "    ### First I will check that it is not already there\n",
    "    if not os.path.isfile(PUIdata + \"/\" + datestring + \"-citibike-tripdata.csv\"):\n",
    "        if os.path.isfile(datestring + \"-citibike-tripdata.csv\"):\n",
    "            # if in the current dir just move it\n",
    "            if os.system(\"mv \" + datestring + \"-citibike-tripdata.csv \" + PUIdata):\n",
    "                print (\"Error moving file!, Please check!\")\n",
    "                \n",
    "        #otherwise start looking for the zip file\n",
    "        else:\n",
    "            if not os.path.isfile(PUIdata + \"/\" + datestring + \"-citibike-tripdata.zip\"):\n",
    "                if not os.path.isfile(datestring + \"-citibike-tripdata.zip\"):\n",
    "                    os.system(\"curl -O https://s3.amazonaws.com/tripdata/\" + datestring + \"-citibike-tripdata.zip\")\n",
    "                ###  To move it I use the os.system() functions to run bash commands with arguments\n",
    "                os.system(\"mv \" + datestring + \"-citibike-tripdata.zip \" + PUIdata)\n",
    "            ### unzip the csv \n",
    "            os.system(\"unzip \" + PUIdata + \"/\" + datestring + \"-citibike-tripdata.zip\")\n",
    "            ## NOTE: old csv citibike data had a different name structure. \n",
    "            if '2014' in datestring:\n",
    "                os.system(\"mv \" + datestring[:4] + '-' +  datestring[4:] + \n",
    "                          \"\\ -\\ Citi\\ Bike\\ trip\\ data.csv \" + datestring + \"-citibike-tripdata.csv\")\n",
    "            os.system(\"mv \" + datestring + \"-citibike-tripdata.csv \" + PUIdata)\n",
    "    \n",
    "    ### One final check:\n",
    "    if not os.path.isfile(PUIdata + \"/\" + datestring + \"-citibike-tripdata.csv\"):\n",
    "        print (\"WARNING!!! something is wrong: the file is not there!\")\n",
    "\n",
    "    else:\n",
    "        print (\"file in place, you can continue\")"
   ]
  },
  {
   "cell_type": "code",
   "execution_count": 3,
   "metadata": {
    "collapsed": false
   },
   "outputs": [
    {
     "name": "stdout",
     "output_type": "stream",
     "text": [
      "('Downloading', '201612')\n",
      "file in place, you can continue\n"
     ]
    }
   ],
   "source": [
    "datestring = '201612'\n",
    "getCitiBikeCSV(datestring)"
   ]
  },
  {
   "cell_type": "code",
   "execution_count": 4,
   "metadata": {
    "collapsed": false
   },
   "outputs": [
    {
     "name": "stdout",
     "output_type": "stream",
     "text": [
      "/home/cusp/uc288/PUIdata\n"
     ]
    }
   ],
   "source": [
    "PUIdata = os.getenv('PUIDATA')\n",
    "print(PUIdata)"
   ]
  },
  {
   "cell_type": "markdown",
   "metadata": {},
   "source": [
    "### NOTE TO SELF: Trip duration is in SECONDS"
   ]
  },
  {
   "cell_type": "code",
   "execution_count": 5,
   "metadata": {
    "collapsed": false
   },
   "outputs": [
    {
     "data": {
      "text/html": [
       "<div>\n",
       "<table border=\"1\" class=\"dataframe\">\n",
       "  <thead>\n",
       "    <tr style=\"text-align: right;\">\n",
       "      <th></th>\n",
       "      <th>Trip Duration</th>\n",
       "      <th>Start Time</th>\n",
       "      <th>Stop Time</th>\n",
       "      <th>Start Station ID</th>\n",
       "      <th>Start Station Name</th>\n",
       "      <th>Start Station Latitude</th>\n",
       "      <th>Start Station Longitude</th>\n",
       "      <th>End Station ID</th>\n",
       "      <th>End Station Name</th>\n",
       "      <th>End Station Latitude</th>\n",
       "      <th>End Station Longitude</th>\n",
       "      <th>Bike ID</th>\n",
       "      <th>User Type</th>\n",
       "      <th>Birth Year</th>\n",
       "      <th>Gender</th>\n",
       "    </tr>\n",
       "  </thead>\n",
       "  <tbody>\n",
       "    <tr>\n",
       "      <th>0</th>\n",
       "      <td>528</td>\n",
       "      <td>2016-12-01 00:00:04</td>\n",
       "      <td>2016-12-01 00:08:52</td>\n",
       "      <td>499</td>\n",
       "      <td>Broadway &amp; W 60 St</td>\n",
       "      <td>40.769155</td>\n",
       "      <td>-73.981918</td>\n",
       "      <td>228</td>\n",
       "      <td>E 48 St &amp; 3 Ave</td>\n",
       "      <td>40.754601</td>\n",
       "      <td>-73.971879</td>\n",
       "      <td>26931</td>\n",
       "      <td>Subscriber</td>\n",
       "      <td>1964.0</td>\n",
       "      <td>1</td>\n",
       "    </tr>\n",
       "    <tr>\n",
       "      <th>1</th>\n",
       "      <td>218</td>\n",
       "      <td>2016-12-01 00:00:28</td>\n",
       "      <td>2016-12-01 00:04:06</td>\n",
       "      <td>3418</td>\n",
       "      <td>Plaza St West &amp; Flatbush Ave</td>\n",
       "      <td>40.675021</td>\n",
       "      <td>-73.971115</td>\n",
       "      <td>3358</td>\n",
       "      <td>Garfield Pl &amp; 8 Ave</td>\n",
       "      <td>40.671198</td>\n",
       "      <td>-73.974841</td>\n",
       "      <td>27122</td>\n",
       "      <td>Subscriber</td>\n",
       "      <td>1955.0</td>\n",
       "      <td>1</td>\n",
       "    </tr>\n",
       "    <tr>\n",
       "      <th>2</th>\n",
       "      <td>399</td>\n",
       "      <td>2016-12-01 00:00:39</td>\n",
       "      <td>2016-12-01 00:07:19</td>\n",
       "      <td>297</td>\n",
       "      <td>E 15 St &amp; 3 Ave</td>\n",
       "      <td>40.734232</td>\n",
       "      <td>-73.986923</td>\n",
       "      <td>345</td>\n",
       "      <td>W 13 St &amp; 6 Ave</td>\n",
       "      <td>40.736494</td>\n",
       "      <td>-73.997044</td>\n",
       "      <td>19352</td>\n",
       "      <td>Subscriber</td>\n",
       "      <td>1985.0</td>\n",
       "      <td>1</td>\n",
       "    </tr>\n",
       "    <tr>\n",
       "      <th>3</th>\n",
       "      <td>254</td>\n",
       "      <td>2016-12-01 00:00:44</td>\n",
       "      <td>2016-12-01 00:04:59</td>\n",
       "      <td>405</td>\n",
       "      <td>Washington St &amp; Gansevoort St</td>\n",
       "      <td>40.739323</td>\n",
       "      <td>-74.008119</td>\n",
       "      <td>358</td>\n",
       "      <td>Christopher St &amp; Greenwich St</td>\n",
       "      <td>40.732916</td>\n",
       "      <td>-74.007114</td>\n",
       "      <td>20015</td>\n",
       "      <td>Subscriber</td>\n",
       "      <td>1982.0</td>\n",
       "      <td>1</td>\n",
       "    </tr>\n",
       "    <tr>\n",
       "      <th>4</th>\n",
       "      <td>1805</td>\n",
       "      <td>2016-12-01 00:00:54</td>\n",
       "      <td>2016-12-01 00:31:00</td>\n",
       "      <td>279</td>\n",
       "      <td>Peck Slip &amp; Front St</td>\n",
       "      <td>40.707873</td>\n",
       "      <td>-74.001670</td>\n",
       "      <td>279</td>\n",
       "      <td>Peck Slip &amp; Front St</td>\n",
       "      <td>40.707873</td>\n",
       "      <td>-74.001670</td>\n",
       "      <td>23148</td>\n",
       "      <td>Subscriber</td>\n",
       "      <td>1989.0</td>\n",
       "      <td>1</td>\n",
       "    </tr>\n",
       "  </tbody>\n",
       "</table>\n",
       "</div>"
      ],
      "text/plain": [
       "   Trip Duration          Start Time           Stop Time  Start Station ID  \\\n",
       "0            528 2016-12-01 00:00:04 2016-12-01 00:08:52               499   \n",
       "1            218 2016-12-01 00:00:28 2016-12-01 00:04:06              3418   \n",
       "2            399 2016-12-01 00:00:39 2016-12-01 00:07:19               297   \n",
       "3            254 2016-12-01 00:00:44 2016-12-01 00:04:59               405   \n",
       "4           1805 2016-12-01 00:00:54 2016-12-01 00:31:00               279   \n",
       "\n",
       "              Start Station Name  Start Station Latitude  \\\n",
       "0             Broadway & W 60 St               40.769155   \n",
       "1   Plaza St West & Flatbush Ave               40.675021   \n",
       "2                E 15 St & 3 Ave               40.734232   \n",
       "3  Washington St & Gansevoort St               40.739323   \n",
       "4           Peck Slip & Front St               40.707873   \n",
       "\n",
       "   Start Station Longitude  End Station ID               End Station Name  \\\n",
       "0               -73.981918             228                E 48 St & 3 Ave   \n",
       "1               -73.971115            3358            Garfield Pl & 8 Ave   \n",
       "2               -73.986923             345                W 13 St & 6 Ave   \n",
       "3               -74.008119             358  Christopher St & Greenwich St   \n",
       "4               -74.001670             279           Peck Slip & Front St   \n",
       "\n",
       "   End Station Latitude  End Station Longitude  Bike ID   User Type  \\\n",
       "0             40.754601             -73.971879    26931  Subscriber   \n",
       "1             40.671198             -73.974841    27122  Subscriber   \n",
       "2             40.736494             -73.997044    19352  Subscriber   \n",
       "3             40.732916             -74.007114    20015  Subscriber   \n",
       "4             40.707873             -74.001670    23148  Subscriber   \n",
       "\n",
       "   Birth Year  Gender  \n",
       "0      1964.0       1  \n",
       "1      1955.0       1  \n",
       "2      1985.0       1  \n",
       "3      1982.0       1  \n",
       "4      1989.0       1  "
      ]
     },
     "execution_count": 5,
     "metadata": {},
     "output_type": "execute_result"
    }
   ],
   "source": [
    "data = pd.read_csv(PUIdata + '/' + datestring + '-citibike-tripdata.csv', \n",
    "                   infer_datetime_format=True,\n",
    "                   parse_dates=['Start Time', 'Stop Time'])\n",
    "data.head()"
   ]
  },
  {
   "cell_type": "code",
   "execution_count": 6,
   "metadata": {
    "collapsed": false
   },
   "outputs": [
    {
     "data": {
      "text/plain": [
       "Index([u'Trip Duration', u'Start Time', u'Stop Time', u'Start Station ID',\n",
       "       u'Start Station Name', u'Start Station Latitude',\n",
       "       u'Start Station Longitude', u'End Station ID', u'End Station Name',\n",
       "       u'End Station Latitude', u'End Station Longitude', u'Bike ID',\n",
       "       u'User Type', u'Birth Year', u'Gender'],\n",
       "      dtype='object')"
      ]
     },
     "execution_count": 6,
     "metadata": {},
     "output_type": "execute_result"
    }
   ],
   "source": [
    "data.columns"
   ]
  },
  {
   "cell_type": "code",
   "execution_count": 7,
   "metadata": {
    "collapsed": false
   },
   "outputs": [],
   "source": [
    "data.drop([u'Trip Duration', u'Stop Time', u'Start Station ID',\n",
    "       u'Start Station Name', u'Start Station Latitude',\n",
    "       u'Start Station Longitude', u'End Station ID', u'End Station Name',\n",
    "       u'End Station Latitude', u'End Station Longitude', u'Bike ID',\n",
    "       u'Birth Year', u'Gender'], axis=1, inplace=True)"
   ]
  },
  {
   "cell_type": "code",
   "execution_count": 8,
   "metadata": {
    "collapsed": false
   },
   "outputs": [],
   "source": [
    "data.rename(columns={'Start Time': 'date', 'User Type': 'usertype'}, inplace=True)"
   ]
  },
  {
   "cell_type": "code",
   "execution_count": 9,
   "metadata": {
    "collapsed": false
   },
   "outputs": [
    {
     "data": {
      "text/html": [
       "<div>\n",
       "<table border=\"1\" class=\"dataframe\">\n",
       "  <thead>\n",
       "    <tr style=\"text-align: right;\">\n",
       "      <th></th>\n",
       "      <th>date</th>\n",
       "      <th>usertype</th>\n",
       "    </tr>\n",
       "  </thead>\n",
       "  <tbody>\n",
       "    <tr>\n",
       "      <th>0</th>\n",
       "      <td>2016-12-01 00:00:04</td>\n",
       "      <td>Subscriber</td>\n",
       "    </tr>\n",
       "    <tr>\n",
       "      <th>1</th>\n",
       "      <td>2016-12-01 00:00:28</td>\n",
       "      <td>Subscriber</td>\n",
       "    </tr>\n",
       "    <tr>\n",
       "      <th>2</th>\n",
       "      <td>2016-12-01 00:00:39</td>\n",
       "      <td>Subscriber</td>\n",
       "    </tr>\n",
       "    <tr>\n",
       "      <th>3</th>\n",
       "      <td>2016-12-01 00:00:44</td>\n",
       "      <td>Subscriber</td>\n",
       "    </tr>\n",
       "    <tr>\n",
       "      <th>4</th>\n",
       "      <td>2016-12-01 00:00:54</td>\n",
       "      <td>Subscriber</td>\n",
       "    </tr>\n",
       "  </tbody>\n",
       "</table>\n",
       "</div>"
      ],
      "text/plain": [
       "                 date    usertype\n",
       "0 2016-12-01 00:00:04  Subscriber\n",
       "1 2016-12-01 00:00:28  Subscriber\n",
       "2 2016-12-01 00:00:39  Subscriber\n",
       "3 2016-12-01 00:00:44  Subscriber\n",
       "4 2016-12-01 00:00:54  Subscriber"
      ]
     },
     "execution_count": 9,
     "metadata": {},
     "output_type": "execute_result"
    }
   ],
   "source": [
    "data.head()"
   ]
  },
  {
   "cell_type": "code",
   "execution_count": 10,
   "metadata": {
    "collapsed": false
   },
   "outputs": [
    {
     "data": {
      "text/html": [
       "<div>\n",
       "<table border=\"1\" class=\"dataframe\">\n",
       "  <thead>\n",
       "    <tr style=\"text-align: right;\">\n",
       "      <th></th>\n",
       "      <th>date</th>\n",
       "      <th>usertype</th>\n",
       "    </tr>\n",
       "  </thead>\n",
       "  <tbody>\n",
       "    <tr>\n",
       "      <th>0</th>\n",
       "      <td>2016-12-01 00:00:04</td>\n",
       "      <td>1.0</td>\n",
       "    </tr>\n",
       "    <tr>\n",
       "      <th>1</th>\n",
       "      <td>2016-12-01 00:00:28</td>\n",
       "      <td>1.0</td>\n",
       "    </tr>\n",
       "    <tr>\n",
       "      <th>2</th>\n",
       "      <td>2016-12-01 00:00:39</td>\n",
       "      <td>1.0</td>\n",
       "    </tr>\n",
       "    <tr>\n",
       "      <th>3</th>\n",
       "      <td>2016-12-01 00:00:44</td>\n",
       "      <td>1.0</td>\n",
       "    </tr>\n",
       "    <tr>\n",
       "      <th>4</th>\n",
       "      <td>2016-12-01 00:00:54</td>\n",
       "      <td>1.0</td>\n",
       "    </tr>\n",
       "  </tbody>\n",
       "</table>\n",
       "</div>"
      ],
      "text/plain": [
       "                 date  usertype\n",
       "0 2016-12-01 00:00:04       1.0\n",
       "1 2016-12-01 00:00:28       1.0\n",
       "2 2016-12-01 00:00:39       1.0\n",
       "3 2016-12-01 00:00:44       1.0\n",
       "4 2016-12-01 00:00:54       1.0"
      ]
     },
     "execution_count": 10,
     "metadata": {},
     "output_type": "execute_result"
    }
   ],
   "source": [
    "data.usertype = data.usertype.replace('Subscriber', 1)\n",
    "data.usertype = data.usertype.replace('Customer', 2)\n",
    "data.head()"
   ]
  },
  {
   "cell_type": "markdown",
   "metadata": {},
   "source": [
    "### Separating customer (\\_c) and subscriber (\\_w) to test the hypothesis.\n",
    "\n",
    "#### User Type (Customer = 24-hour pass or 3-day pass user; Subscriber = Annual Member)"
   ]
  },
  {
   "cell_type": "code",
   "execution_count": 11,
   "metadata": {
    "collapsed": true
   },
   "outputs": [],
   "source": [
    "counts_c = data['date'][data['usertype'] == 2].groupby([data['date'].dt.weekday]).count()\n",
    "counts_s = data['date'][data['usertype'] == 1].groupby([data['date'].dt.weekday]).count()"
   ]
  },
  {
   "cell_type": "code",
   "execution_count": 12,
   "metadata": {
    "collapsed": false
   },
   "outputs": [
    {
     "data": {
      "text/plain": [
       "pandas.core.series.Series"
      ]
     },
     "execution_count": 12,
     "metadata": {},
     "output_type": "execute_result"
    }
   ],
   "source": [
    "type(counts_c)"
   ]
  },
  {
   "cell_type": "code",
   "execution_count": 13,
   "metadata": {
    "collapsed": false
   },
   "outputs": [
    {
     "data": {
      "text/plain": [
       "<matplotlib.legend.Legend at 0x7f65db500650>"
      ]
     },
     "execution_count": 13,
     "metadata": {},
     "output_type": "execute_result"
    },
    {
     "data": {
      "image/png": "[encoded data removed]",
      "text/plain": [
       "<matplotlib.figure.Figure at 0x7f65d6d15ed0>"
      ]
     },
     "metadata": {},
     "output_type": "display_data"
    }
   ],
   "source": [
    "fig = pl.figure(figsize(15,8))\n",
    "norm_c = 1\n",
    "norm_s = 1\n",
    "\n",
    "ax = ((counts_c)/norm_c).plot(kind='bar', color='IndianRed', label='customer')\n",
    "ax = ((counts_s)/norm_s).plot(kind='bar', color='SteelBlue', label='subscriber', alpha=0.4)\n",
    "\n",
    "ax.xaxis.set_ticklabels(['Mon', 'Tue', 'Wed', 'Thu', 'Fri', 'Sat', 'Sun'], fontsize=20)\n",
    "ax.set_xlabel('Day of the week', fontsize=20)\n",
    "ax.set_ylabel('Number of riders', fontsize=20)\n",
    "pl.legend()"
   ]
  },
  {
   "cell_type": "markdown",
   "metadata": {
    "collapsed": false
   },
   "source": [
    "## Figure 1. Distribution of Citibike users by user type in December 2016, absolute counts\n",
    "Based from the absolute counts, it can be seen that there seems to be more subscribers over than customers daily. However, it can also be seen that there is a decrease in the number of subscribers using the CitiBike on weekends."
   ]
  },
  {
   "cell_type": "markdown",
   "metadata": {},
   "source": [
    "#### For N counts, the error is $\\sqrt{N}$, because counts follow a Poisson statistic"
   ]
  },
  {
   "cell_type": "code",
   "execution_count": 14,
   "metadata": {
    "collapsed": false
   },
   "outputs": [
    {
     "data": {
      "text/plain": [
       "<matplotlib.legend.Legend at 0x7f65dcc23950>"
      ]
     },
     "execution_count": 14,
     "metadata": {},
     "output_type": "execute_result"
    },
    {
     "data": {
      "image/png": "[encoded data removed]",
      "text/plain": [
       "<matplotlib.figure.Figure at 0x7f65d8e67510>"
      ]
     },
     "metadata": {},
     "output_type": "display_data"
    }
   ],
   "source": [
    "fig = pl.figure(figsize(15,8))\n",
    "\n",
    "norm_c = 1\n",
    "error_c = np.sqrt(counts_c)\n",
    "ax = ((counts_c) / norm_c).plot(kind=\"bar\", color='IndianRed', label='customer',\n",
    "                               yerr=[((error_c) / norm_c, (error_c) / norm_c)])\n",
    "\n",
    "norm_s = 1\n",
    "error_s = np.sqrt(counts_s)\n",
    "ax = ((counts_s) / norm_s).plot(kind=\"bar\", color='SteelBlue', alpha=0.5, label='subscriber',\n",
    "                               yerr=[((error_s) / norm_s, (error_s) / norm_s)])\n",
    "\n",
    "ax.xaxis.set_ticklabels(['Mon','Tue','Wed','Thu','Fri','Sat','Sun'], fontsize=20)\n",
    "ax.set_ylabel (\"Number of rides\", fontsize=20)\n",
    "ax.set_xlabel (\"Day of the week\", fontsize=20)\n",
    "pl.legend(['customer','subscriber'],fontsize=20)"
   ]
  },
  {
   "cell_type": "markdown",
   "metadata": {},
   "source": [
    "## Figure 2. Distribution of Citibike users by user type in December 2016, absolute counts, with statistical errors\n",
    "There's not much difference from Figure 1, except the statistical errors are included in this plot."
   ]
  },
  {
   "cell_type": "code",
   "execution_count": 15,
   "metadata": {
    "collapsed": false
   },
   "outputs": [
    {
     "data": {
      "text/plain": [
       "<matplotlib.legend.Legend at 0x7f65d8363e50>"
      ]
     },
     "execution_count": 15,
     "metadata": {},
     "output_type": "execute_result"
    },
    {
     "data": {
      "image/png": "[encoded data removed]",
      "text/plain": [
       "<matplotlib.figure.Figure at 0x7f65d5e7ef90>"
      ]
     },
     "metadata": {},
     "output_type": "display_data"
    }
   ],
   "source": [
    "fig = pl.figure(figsize(15,8))\n",
    "\n",
    "norm_c = counts_c.sum()\n",
    "ax = ((counts_c) / norm_c).plot(kind=\"bar\", color='IndianRed', label='customer',\n",
    "                               yerr=[((error_c) / norm_c, (error_c) / norm_c)])\n",
    "\n",
    "norm_s = counts_s.sum()\n",
    "ax = ((counts_s) / norm_s).plot(kind=\"bar\", color='SteelBlue', alpha=0.5, \n",
    "                                label='subscriber', yerr=[((error_s) / norm_s, (error_s) / norm_s)])\n",
    "\n",
    "ax.xaxis.set_ticklabels(['Mon','Tue','Wed','Thu','Fri','Sat','Sun'], fontsize=20)\n",
    "ax.set_ylabel (\"Fraction of rides\", fontsize=20)\n",
    "ax.set_xlabel (\"Day of the week\", fontsize=20)\n",
    "pl.legend(['customer','subscriber'],fontsize=20)"
   ]
  },
  {
   "cell_type": "markdown",
   "metadata": {},
   "source": [
    "## Figure 3. Distribution of Citibike users by user type in December 2016, normalized\n",
    "Now that the data is normalized, we can clearly see that there are more subscribers than customers out during the weekdays and that there are more customers than subscribers on the weekends."
   ]
  },
  {
   "cell_type": "code",
   "execution_count": 16,
   "metadata": {
    "collapsed": false
   },
   "outputs": [
    {
     "data": {
      "text/plain": [
       "date\n",
       "0    0.090973\n",
       "1    0.142655\n",
       "2    0.124854\n",
       "3    0.095862\n",
       "4    0.160733\n",
       "Name: date, dtype: float64"
      ]
     },
     "execution_count": 16,
     "metadata": {},
     "output_type": "execute_result"
    }
   ],
   "source": [
    "weekday_c = ((counts_c) / norm_c)[:-2]\n",
    "weekday_c"
   ]
  },
  {
   "cell_type": "code",
   "execution_count": 17,
   "metadata": {
    "collapsed": false
   },
   "outputs": [
    {
     "data": {
      "text/plain": [
       "date\n",
       "5    0.184806\n",
       "6    0.200117\n",
       "Name: date, dtype: float64"
      ]
     },
     "execution_count": 17,
     "metadata": {},
     "output_type": "execute_result"
    }
   ],
   "source": [
    "weekend_c = ((counts_c) / norm_c)[-2:]\n",
    "weekend_c"
   ]
  },
  {
   "cell_type": "code",
   "execution_count": 18,
   "metadata": {
    "collapsed": false
   },
   "outputs": [
    {
     "data": {
      "text/plain": [
       "0.63916932907348245"
      ]
     },
     "execution_count": 18,
     "metadata": {},
     "output_type": "execute_result"
    }
   ],
   "source": [
    "ratio_c = np.mean(weekday_c) / np.mean(weekend_c)\n",
    "ratio_c"
   ]
  },
  {
   "cell_type": "code",
   "execution_count": 19,
   "metadata": {
    "collapsed": false
   },
   "outputs": [
    {
     "data": {
      "text/plain": [
       "date\n",
       "0    0.126514\n",
       "1    0.155774\n",
       "2    0.161775\n",
       "3    0.191483\n",
       "4    0.183432\n",
       "Name: date, dtype: float64"
      ]
     },
     "execution_count": 19,
     "metadata": {},
     "output_type": "execute_result"
    }
   ],
   "source": [
    "weekday_s = ((counts_s) / norm_s)[:-2]\n",
    "weekday_s"
   ]
  },
  {
   "cell_type": "code",
   "execution_count": 20,
   "metadata": {
    "collapsed": false
   },
   "outputs": [
    {
     "data": {
      "text/plain": [
       "date\n",
       "5    0.098379\n",
       "6    0.082643\n",
       "Name: date, dtype: float64"
      ]
     },
     "execution_count": 20,
     "metadata": {},
     "output_type": "execute_result"
    }
   ],
   "source": [
    "weekend_s = ((counts_s) / norm_s)[-2:]\n",
    "weekend_s"
   ]
  },
  {
   "cell_type": "code",
   "execution_count": 21,
   "metadata": {
    "collapsed": false
   },
   "outputs": [
    {
     "data": {
      "text/plain": [
       "1.8096659579629291"
      ]
     },
     "execution_count": 21,
     "metadata": {},
     "output_type": "execute_result"
    }
   ],
   "source": [
    "ratio_s = np.mean(weekday_s) / np.mean(weekend_s)\n",
    "ratio_s"
   ]
  },
  {
   "cell_type": "markdown",
   "metadata": {},
   "source": [
    "## NULL HYPOTHESIS\n",
    "### The ratio of subscribers biking on weekdays over subscribers biking on weekends is the same or lower than the ratio of customers biking on weekdays over customers biking on weekends a significance level of $\\alpha = 0.05$."
   ]
  },
  {
   "cell_type": "markdown",
   "metadata": {},
   "source": [
    "## $H_0$ : $\\frac{S_{\\mathrm{weekday}}}{S_{\\mathrm{weekend}}} <= \\frac{C_{\\mathrm{weekday}}}{C_{\\mathrm{weekend}}}$\n",
    "\n",
    "## $H_1$ : $\\frac{S_{\\mathrm{weekday}}}{S_{\\mathrm{weekend}}} > \\frac{C_{\\mathrm{weekday}}}{C_{\\mathrm{weekend}}}$"
   ]
  },
  {
   "cell_type": "code",
   "execution_count": 22,
   "metadata": {
    "collapsed": false
   },
   "outputs": [
    {
     "name": "stdout",
     "output_type": "stream",
     "text": [
      "The ratio of subscribers biking on weekdays over subscribers biking on weekends is 1.80966595796\n",
      "The ratio of customers bikinhg on weekdays over customers biking on weekends is 0.639169329073\n"
     ]
    }
   ],
   "source": [
    "print('The ratio of subscribers biking on weekdays over subscribers biking on weekends is {}'.format(ratio_s))\n",
    "print('The ratio of customers bikinhg on weekdays over customers biking on weekends is {}'.format(ratio_c))"
   ]
  },
  {
   "cell_type": "markdown",
   "metadata": {},
   "source": [
    "## Based on the values, we can say the ratio of subscribers is HIGER than the ratio of customers\n",
    "## $\\frac{S_{\\mathrm{weekday}}}{S_{\\mathrm{weekend}}} = 1.80966595796$\n",
    "## $\\frac{C_{\\mathrm{weekday}}}{C_{\\mathrm{weekend}}} = 0.639169329073$\n",
    "\n",
    "## Is it significantly enough?"
   ]
  },
  {
   "cell_type": "markdown",
   "metadata": {},
   "source": [
    "# A z-test should be done to test the significance"
   ]
  }
 ],
 "metadata": {
  "kernelspec": {
   "display_name": "PUI2016_Python2",
   "language": "python",
   "name": "pui2016_python2"
  },
  "language_info": {
   "codemirror_mode": {
    "name": "ipython",
    "version": 2
   },
   "file_extension": ".py",
   "mimetype": "text/x-python",
   "name": "python",
   "nbconvert_exporter": "python",
   "pygments_lexer": "ipython2",
   "version": "2.7.12"
  }
 },
 "nbformat": 4,
 "nbformat_minor": 0
}
