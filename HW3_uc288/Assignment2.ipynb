{
 "cells": [
  {
   "cell_type": "markdown",
   "metadata": {},
   "source": [
    "# Assignment 2: CitiBike Data Analysis\n",
    "\n",
    "Your notebook must display\n",
    "* the complete formulation of the hypothesis to be tested\n",
    "* the data tables for the unreducted datasets (first few columns)\n",
    "* the data tables for the reducted datasets (first few columns)\n",
    "* the plots for each dataframe, with usual rules for plotting applying: visible and readable axes, title, legend, caption."
   ]
  }
 ],
 "metadata": {
  "kernelspec": {
   "display_name": "PUI2016_Python2",
   "language": "python",
   "name": "pui2016_python2"
  },
  "language_info": {
   "codemirror_mode": {
    "name": "ipython",
    "version": 2
   },
   "file_extension": ".py",
   "mimetype": "text/x-python",
   "name": "python",
   "nbconvert_exporter": "python",
   "pygments_lexer": "ipython2",
   "version": "2.7.12"
  }
 },
 "nbformat": 4,
 "nbformat_minor": 0
}
