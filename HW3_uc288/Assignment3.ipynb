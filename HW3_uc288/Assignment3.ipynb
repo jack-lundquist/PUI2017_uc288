{
 "cells": [
  {
   "cell_type": "markdown",
   "metadata": {},
   "source": [
    "# Assignment 3: Finish z-test lab and turn it in as a notebook\n",
    "\n",
    "1. Formulate the hypothesis (Null and Alternative) to be tested in words and formula\n",
    "2. Download of the data (which is in [https://github.com/fedhere/PUI2017_fb55/blob/master/Lab3_fb55/times.txt] - get raw data)\n",
    "3. Calculate the z statistics (with the given formula and data processed from the data file)\n",
    "4. Compare the statistics with the significance threshold and the conclusions about the Null Hypothesis"
   ]
  },
  {
   "cell_type": "markdown",
   "metadata": {},
   "source": [
    "A new bus route for line X8 is implemented. MTA wants to know if it improves commute time (travel time at peak hours). They know what the mean travel time used to be, and measure the new travel time 100 times. \n",
    "\n",
    "Told ~ $N(\\mu = 36, \\sigma = 6)$\n",
    "\n",
    "### Question\n",
    "Is the new bus route improving the commute?\n",
    "\n",
    "### Null Hypothesis\n",
    "The commute time is on average the same or longer with the new bus route as it was before.\n",
    "\n",
    "$T_n >= T_o$\n",
    "\n",
    "### Alternative Hypothesis\n",
    "The commute time is shorter with the new bus route as it was before.\n",
    "\n",
    "$T_n < T_o$"
   ]
  },
  {
   "cell_type": "code",
   "execution_count": 1,
   "metadata": {
    "collapsed": false
   },
   "outputs": [
    {
     "name": "stdout",
     "output_type": "stream",
     "text": [
      "Populating the interactive namespace from numpy and matplotlib\n"
     ]
    }
   ],
   "source": [
    "from __future__ import print_function\n",
    "import pandas as pd\n",
    "import matplotlib.pyplot as pl\n",
    "import math\n",
    "import scipy.stats as \n",
    "\n",
    "%pylab inline"
   ]
  },
  {
   "cell_type": "code",
   "execution_count": 2,
   "metadata": {
    "collapsed": true
   },
   "outputs": [],
   "source": [
    "mean_old = 36.\n",
    "std_old = 6."
   ]
  },
  {
   "cell_type": "code",
   "execution_count": 3,
   "metadata": {
    "collapsed": false
   },
   "outputs": [],
   "source": [
    "times_new = pd.read_csv('https://raw.githubusercontent.com/fedhere/PUI2017_fb55/'\n",
    "                 + 'master/Lab3_fb55/times.txt', header=None).values.squeeze()"
   ]
  },
  {
   "cell_type": "code",
   "execution_count": 8,
   "metadata": {
    "collapsed": false
   },
   "outputs": [
    {
     "data": {
      "text/plain": [
       "array([ 31.62223931,  32.82137636,  30.2291014 ,  31.41376587,\n",
       "        39.01055035,  34.82207891,  39.87188366,  39.57994562,\n",
       "        31.02658678,  27.66246068,  18.8752884 ,  46.2313731 ,\n",
       "        30.01522604,  47.6004104 ,  16.52726666,  42.4462331 ,\n",
       "        33.62527449,  42.28462558,  46.20520667,  30.87517392,\n",
       "        32.94800341,  26.17691512,  31.25699649,  35.33644554,\n",
       "        35.64072501,  40.32297174,  38.04348588,  29.4579793 ,\n",
       "        23.91636367,  34.56403521,  45.42782464,  38.95607754,\n",
       "        39.11396748,  39.67398759,  31.89148105,  22.62379325,\n",
       "        26.18910408,  43.54114213,  33.2607386 ,  31.67602384,\n",
       "        37.12846259,  38.22048496,  34.38814185,  36.11407371,\n",
       "        44.08064814,  29.59917161,  37.02411751,  41.60576556,\n",
       "        44.37860528,  38.06471077,  22.90526456,  40.27182857,\n",
       "        31.57979239,  25.88037795,  28.8913048 ,  44.33687925,\n",
       "        36.78948684,  43.46098875,  40.65557   ,  26.16634004,\n",
       "        25.13884784,  33.01581456,  32.87050073,  26.28557154,\n",
       "        39.44933037,  36.25528612,  40.719133  ,  40.57181545,\n",
       "        19.87166413,  43.21925286,  31.48102823,  37.14915056,\n",
       "        38.991504  ,  20.53059384,  27.80447692,  38.69933298,\n",
       "        30.0223142 ,  38.64884169,  26.40668884,  32.10224978,\n",
       "        28.31532754,  43.26195884,  40.3609407 ,  37.3025258 ,\n",
       "        31.45110181,  38.79599524,  36.92553372,  32.37167945,\n",
       "        23.25835631,  26.42613261,  48.74987653,  31.42512354,\n",
       "        46.80679298,  30.59748648,  20.7926322 ,  26.19785226,\n",
       "        42.7274097 ,  33.7314695 ,  37.23859057,  36.33984141])"
      ]
     },
     "execution_count": 8,
     "metadata": {},
     "output_type": "execute_result"
    }
   ],
   "source": [
    "times_new"
   ]
  },
  {
   "cell_type": "code",
   "execution_count": 7,
   "metadata": {
    "collapsed": false
   },
   "outputs": [
    {
     "data": {
      "text/plain": [
       "(array([  1.,   1.,   3.,   2.,   2.,   5.,   6.,   2.,   8.,  11.,   7.,\n",
       "          5.,  10.,   9.,  10.,   3.,   6.,   4.,   3.,   2.]),\n",
       " array([ 16.52726666,  18.13839715,  19.74952765,  21.36065814,\n",
       "         22.97178863,  24.58291913,  26.19404962,  27.80518011,\n",
       "         29.41631061,  31.0274411 ,  32.6385716 ,  34.24970209,\n",
       "         35.86083258,  37.47196308,  39.08309357,  40.69422406,\n",
       "         42.30535456,  43.91648505,  45.52761554,  47.13874604,  48.74987653]),\n",
       " <a list of 20 Patch objects>)"
      ]
     },
     "execution_count": 7,
     "metadata": {},
     "output_type": "execute_result"
    },
    {
     "data": {
      "image/png": "[encoded data removed]",
      "text/plain": [
       "<matplotlib.figure.Figure at 0x7f9cc80fe290>"
      ]
     },
     "metadata": {},
     "output_type": "display_data"
    }
   ],
   "source": [
    "fig = pl.figure(figsize=(8,10))\n",
    "ax = fig.add_subplot(111)\n",
    "\n",
    "ax.hist(times, bins=25, c='g')\n"
   ]
  },
  {
   "cell_type": "code",
   "execution_count": 5,
   "metadata": {
    "collapsed": false
   },
   "outputs": [
    {
     "name": "stdout",
     "output_type": "stream",
     "text": [
      "The mean of the times of the new bus route is 34.4662 and the standard deviation is 7.1015\n"
     ]
    }
   ],
   "source": [
    "mean_new = times_new.mean()\n",
    "std_new = times_new.std()\n",
    "N = len(times_new)\n",
    "\n",
    "print('The mean of the times of the new bus route is {:.4f} and the standard deviation is {:.4f}'\\\n",
    "     .format(mean_new, std_new))"
   ]
  },
  {
   "cell_type": "markdown",
   "metadata": {},
   "source": [
    "# $Z = \\frac{\\mu_{pop} - \\mu_{sample}}{\\sigma / \\sqrt{N}}$"
   ]
  },
  {
   "cell_type": "code",
   "execution_count": 6,
   "metadata": {
    "collapsed": false
   },
   "outputs": [
    {
     "name": "stdout",
     "output_type": "stream",
     "text": [
      "The z-test is 2.5564\n"
     ]
    }
   ],
   "source": [
    "z = (mean_old-mean_new) / (std_old/math.sqrt(N))\n",
    "\n",
    "print('The z-test is {:.4f}'.format(z))"
   ]
  },
  {
   "cell_type": "markdown",
   "metadata": {},
   "source": [
    "### Since the z-test value 2.5564 is greater than 2, it means that we are farther away from $2\\sigma$ from the old mean. Therefore, we have rejected our NULL HYPOTHESIS.\n",
    "\n",
    "### The new bus route does improve the commute."
   ]
  }
 ],
 "metadata": {
  "kernelspec": {
   "display_name": "PUI2016_Python2",
   "language": "python",
   "name": "pui2016_python2"
  },
  "language_info": {
   "codemirror_mode": {
    "name": "ipython",
    "version": 2
   },
   "file_extension": ".py",
   "mimetype": "text/x-python",
   "name": "python",
   "nbconvert_exporter": "python",
   "pygments_lexer": "ipython2",
   "version": "2.7.12"
  }
 },
 "nbformat": 4,
 "nbformat_minor": 0
}
