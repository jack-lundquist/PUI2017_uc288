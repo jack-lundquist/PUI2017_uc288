{
 "cells": [
  {
   "cell_type": "markdown",
   "metadata": {},
   "source": [
    "# Assignment 3: Finish z-test lab and turn it in as a notebook\n",
    "\n",
    "1. Formulate the hypothesis (Null and Alternative) to be tested in words and formula\n",
    "2. Download of the data (which is in [https://github.com/fedhere/PUI2017_fb55/blob/master/Lab3_fb55/times.txt] - get raw data)\n",
    "3. Calculate the z statistics (with the given formula and data processed from the data file)\n",
    "4. Compare the statistics with the significance threshold and the conclusions about the Null Hypothesis"
   ]
  },
  {
   "cell_type": "markdown",
   "metadata": {},
   "source": [
    "A new bus route for line X8 is implemented. MTA wants to know if it improves commute time (travel time at peak hours). They know what the mean travel time used to be, and measure the new travel time 100 times. \n",
    "\n",
    "Told ~ $N(\\mu = 36, \\sigma = 6)$\n",
    "\n",
    "### Question\n",
    "Is the new bus route improving the commute?\n",
    "\n",
    "### Null Hypothesis\n",
    "The commute time is on average the same or longer with the new bus route as it was before.\n",
    "\n",
    "$T_n >= T_o$\n",
    "\n",
    "### Alternative Hypothesis\n",
    "The commute time is shorter with the new bus route as it was before.\n",
    "\n",
    "$T_n < T_o$"
   ]
  },
  {
   "cell_type": "code",
   "execution_count": 1,
   "metadata": {
    "collapsed": false
   },
   "outputs": [
    {
     "name": "stdout",
     "output_type": "stream",
     "text": [
      "Populating the interactive namespace from numpy and matplotlib\n"
     ]
    }
   ],
   "source": [
    "from __future__ import print_function\n",
    "import pandas as pd\n",
    "import matplotlib.pyplot as pl\n",
    "import numpy as np\n",
    "\n",
    "%pylab inline"
   ]
  },
  {
   "cell_type": "code",
   "execution_count": 2,
   "metadata": {
    "collapsed": true
   },
   "outputs": [],
   "source": [
    "mean_old = 36.\n",
    "std_old = 6."
   ]
  },
  {
   "cell_type": "code",
   "execution_count": 3,
   "metadata": {
    "collapsed": false
   },
   "outputs": [],
   "source": [
    "times_new = pd.read_csv('https://raw.githubusercontent.com/fedhere/PUI2017_fb55/'\n",
    "                 + 'master/Lab3_fb55/times.txt', header=None).values.squeeze()"
   ]
  },
  {
   "cell_type": "code",
   "execution_count": 4,
   "metadata": {
    "collapsed": false
   },
   "outputs": [
    {
     "name": "stdout",
     "output_type": "stream",
     "text": [
      "The mean of the times of the new bus route is 34.4662 and the standard deviation is 7.1015\n"
     ]
    }
   ],
   "source": [
    "mean_new = np.mean(times_new)\n",
    "std_new = np.std(times_new)\n",
    "N = len(times_new)\n",
    "\n",
    "print('The mean of the times of the new bus route is {:.4f} and the standard deviation is {:.4f}'\\\n",
    "     .format(mean_new, std_new))"
   ]
  },
  {
   "cell_type": "markdown",
   "metadata": {},
   "source": [
    "# $Z = \\frac{\\mu_{pop} - \\mu_{sample}}{\\sigma / \\sqrt{N}}$"
   ]
  },
  {
   "cell_type": "code",
   "execution_count": 5,
   "metadata": {
    "collapsed": false
   },
   "outputs": [
    {
     "name": "stdout",
     "output_type": "stream",
     "text": [
      "The z-test is 2.5564\n"
     ]
    }
   ],
   "source": [
    "z = (mean_old-mean_new) / (std_old/math.sqrt(N))\n",
    "\n",
    "print('The z-test is {:.4f}'.format(z))"
   ]
  },
  {
   "cell_type": "markdown",
   "metadata": {},
   "source": [
    "### Since the z-test value 2.5564 is greater than 2, it means that we are farther away from $2\\sigma$ from the old mean. Therefore, we have rejected our NULL HYPOTHESIS.\n",
    "\n",
    "### The new bus route does improve the commute."
   ]
  }
 ],
 "metadata": {
  "kernelspec": {
   "display_name": "PUI2016_Python2",
   "language": "python",
   "name": "pui2016_python2"
  },
  "language_info": {
   "codemirror_mode": {
    "name": "ipython",
    "version": 2
   },
   "file_extension": ".py",
   "mimetype": "text/x-python",
   "name": "python",
   "nbconvert_exporter": "python",
   "pygments_lexer": "ipython2",
   "version": "2.7.12"
  }
 },
 "nbformat": 4,
 "nbformat_minor": 0
}
