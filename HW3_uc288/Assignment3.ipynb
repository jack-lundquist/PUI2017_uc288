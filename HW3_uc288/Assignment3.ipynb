{
 "cells": [
  {
   "cell_type": "markdown",
   "metadata": {},
   "source": [
    "# Assignment 3: Finish z-test lab and turn it in as a notebook\n",
    "\n",
    "1. Formulate the hypothesis (Null and Alternative) to be tested in words and formula\n",
    "2. Download of the data (which is in [https://github.com/fedhere/PUI2017_fb55/blob/master/Lab3_fb55/times.txt] - get raw data)\n",
    "3. Calculate the z statistics (with the given formula and data processed from the data file)\n",
    "4. Compare the statistics with the significance threshold and the conclusions about the Null Hypothesis"
   ]
  },
  {
   "cell_type": "markdown",
   "metadata": {},
   "source": [
    "A new bus route for line X8 is implemented. MTA wants to know if it improves commute time (travel time at peak hours). They know what the mean travel time used to be, and measure the new travel time 100 times. \n",
    "\n",
    "Told ~ $N(\\mu = 36, \\sigma = 6)$\n",
    "\n",
    "### Question\n",
    "Is the new bus route improving the commute?\n",
    "\n",
    "### Null Hypothesis\n",
    "The commute time is on average the same or longer with the new bus route as it was before.\n",
    "\n",
    "$T_n >= T_o$\n",
    "\n",
    "### Alternative Hypothesis\n",
    "The commute time is shorter with the new bus route as it was before.\n",
    "\n",
    "$T_n < T_o$"
   ]
  }
 ],
 "metadata": {
  "kernelspec": {
   "display_name": "PUI2016_Python2",
   "language": "python",
   "name": "pui2016_python2"
  },
  "language_info": {
   "codemirror_mode": {
    "name": "ipython",
    "version": 2
   },
   "file_extension": ".py",
   "mimetype": "text/x-python",
   "name": "python",
   "nbconvert_exporter": "python",
   "pygments_lexer": "ipython2",
   "version": "2.7.12"
  }
 },
 "nbformat": 4,
 "nbformat_minor": 0
}
